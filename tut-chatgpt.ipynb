{
 "cells": [
  {
   "cell_type": "code",
   "execution_count": null,
   "metadata": {},
   "outputs": [],
   "source": [
    "import cv2\n",
    "import numpy as np\n",
    "import matplotlib.pyplot as plt\n",
    "\n",
    "# Load a color image\n",
    "image = cv2.imread('sample.jpg')\n",
    "\n",
    "# Display image dimensions\n",
    "print(f\"Image Dimensions: {image.shape}\")  # (Height, Width, Channels)\n",
    "\n",
    "# Accessing pixel values\n",
    "x, y = 50, 100  # Change to any coordinates in your image\n",
    "pixel_value = image[x, y]\n",
    "print(f\"Pixel at ({x}, {y}): {pixel_value}\")\n",
    "\n",
    "# Convert to grayscale\n",
    "gray_image = cv2.cvtColor(image, cv2.COLOR_BGR2GRAY)\n",
    "\n",
    "# Display original and grayscale images\n",
    "plt.figure(figsize=(10, 5))\n",
    "plt.subplot(1, 2, 1)\n",
    "plt.imshow(cv2.cvtColor(image, cv2.COLOR_BGR2RGB))\n",
    "plt.title(\"Original Image\")\n",
    "plt.axis(\"off\")\n",
    "\n",
    "plt.subplot(1, 2, 2)\n",
    "plt.imshow(gray_image, cmap='gray')\n",
    "plt.title(\"Grayscale Image\")\n",
    "plt.axis(\"off\")\n",
    "\n",
    "plt.show()\n"
   ]
  }
 ],
 "metadata": {
  "kernelspec": {
   "display_name": "myenv",
   "language": "python",
   "name": "python3"
  },
  "language_info": {
   "name": "python",
   "version": "3.9.7"
  }
 },
 "nbformat": 4,
 "nbformat_minor": 2
}
